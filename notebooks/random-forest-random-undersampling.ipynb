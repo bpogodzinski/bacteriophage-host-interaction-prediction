{
 "cells": [
  {
   "cell_type": "code",
   "execution_count": null,
   "metadata": {},
   "outputs": [],
   "source": [
    "from virus.RandomForest import RandomForest\n",
    "from virus.cross_validation.undersampling import leave_one_out_train_test_generator_random\n",
    "import datetime\n",
    "import os\n",
    "import pandas as pd\n",
    "\n",
    "user = os.environ['USER']\n",
    "rf = RandomForest(f'/home/{user}/workspace/wirusy')\n",
    "output = 'random-forest-random-undersampling-no-mismatch-score-blastn-rank-%Y-%m-%d-T-%H-%M-%S'\n",
    "timestamp_format = '%Y-%m-%d-T-%H-%M-%S'\n",
    "now = datetime.datetime.now()\n",
    "output_name = now.strftime(output)\n",
    "timestamp = now.strftime(timestamp_format)\n",
    "output_path = f'{rf.PROJECT_DIR}/outputs/random-forest'\n",
    "os.makedirs(output_path, exist_ok=True)\n",
    "\n",
    "train_results = rf.train(rf.df, rf.virus_groups, leave_one_out_train_test_generator_random, exclude_features=['crisprdetect_2mismatch_score', 'piler_2mismatch_score'],\n",
    "                        n_jobs=-1)\n"
   ]
  },
  {
   "cell_type": "code",
   "execution_count": null,
   "metadata": {},
   "outputs": [],
   "source": [
    "rf.save_results_to_csv(train_results, rf.virus_groups, rf.df, f'{output_path}/{output_name}.csv', exclude_features=['crisprdetect_2mismatch_score', 'piler_2mismatch_score'])\n",
    "rf.save_data_to_pickle(train_results, f'{output_path}/{output_name}.pickle')\n",
    "y_data, y_predictions, pairs_proba = rf.get_y_true_and_y_pred(f'{output_path}/{output_name}.csv')\n",
    "predictions_df = pd.read_csv(f'{output_path}/{output_name}.csv', header=0, index_col=[0, 1])\n",
    "classifiers = [x[1] for x in train_results]"
   ]
  },
  {
   "cell_type": "code",
   "execution_count": null,
   "metadata": {},
   "outputs": [],
   "source": [
    "import plotnine as p9\n",
    "\n",
    "plot1 = rf.plot_feature_importances(classifiers, size=(22,7), exclude_features=['crisprdetect_2mismatch_score', 'piler_2mismatch_score'], title=f'Feature Importance - Random Undersampling - No mismatch score')\n",
    "plot2 = rf.plot_host_taxonomy_probability(predictions_df, size=(12,10))\n",
    "plot3 = rf.plot_precision_recall_curve(y_data, y_predictions, size=(12,10))\n",
    "plot4 = rf.plot_roc_curve(y_data, y_predictions, (12,10))\n",
    "plot5 = rf.plot_boxplot_proba(pairs_proba, (12,10))\n",
    "\n",
    "p9.save_as_pdf_pages([plot1, plot2, plot3, plot4, plot5], f'{output_path}/{output_name}.pdf')"
   ]
  }
 ],
 "metadata": {
  "interpreter": {
   "hash": "d07505dcd9b474b842f499a38eeb170913afaf5bb8c95598f2be6a43bd70f3b9"
  },
  "kernelspec": {
   "display_name": "Python 3.9.5 64-bit ('virus-df-3.9.5')",
   "language": "python",
   "name": "python3"
  },
  "language_info": {
   "codemirror_mode": {
    "name": "ipython",
    "version": 3
   },
   "file_extension": ".py",
   "mimetype": "text/x-python",
   "name": "python",
   "nbconvert_exporter": "python",
   "pygments_lexer": "ipython3",
   "version": "3.9.5"
  },
  "orig_nbformat": 4
 },
 "nbformat": 4,
 "nbformat_minor": 2
}
