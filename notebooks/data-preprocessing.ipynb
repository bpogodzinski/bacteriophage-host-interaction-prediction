{
 "cells": [
  {
   "cell_type": "markdown",
   "metadata": {},
   "source": [
    "# Data preprocessing\n",
    "\n",
    "---\n",
    "\n",
    "## TODO\n",
    "\n",
    "1. Prepare positive & negative pairs from all of the features\n",
    "\n",
    "---\n",
    "\n",
    "## Setup\n",
    "\n",
    "1. Imports"
   ]
  },
  {
   "cell_type": "code",
   "execution_count": 1,
   "metadata": {},
   "outputs": [],
   "source": [
    "import csv\n",
    "from pathlib import Path\n",
    "from collections import defaultdict\n",
    "import json\n",
    "import os\n",
    "import pandas as pd\n",
    "import re"
   ]
  },
  {
   "cell_type": "markdown",
   "metadata": {},
   "source": [
    "2. Paths"
   ]
  },
  {
   "cell_type": "code",
   "execution_count": 2,
   "metadata": {},
   "outputs": [],
   "source": [
    "user = os.environ['USER']\n",
    "PROJECT_DIR = Path(f'/home/{user}/workspace/wirusy')\n",
    "HOST_JSON = PROJECT_DIR / 'host.json'\n",
    "VIRUS_JSON = PROJECT_DIR / 'virus.json'\n",
    "FEATURES_DIR = PROJECT_DIR / 'features'\n",
    "HOST_DIR = PROJECT_DIR / 'data' / 'host'\n",
    "VIRUS_DIR = PROJECT_DIR / 'data' / 'virus'\n",
    "PROTEIN_DIR = PROJECT_DIR / 'protein_domains'\n",
    "\n",
    "assert PROJECT_DIR.exists() \\\n",
    "   and HOST_JSON.exists() \\\n",
    "   and VIRUS_JSON.exists() \\\n",
    "   and FEATURES_DIR.exists() \\\n",
    "   and HOST_DIR.exists() \\\n",
    "   and VIRUS_DIR.exists() \\\n",
    "   and PROTEIN_DIR.exists()"
   ]
  },
  {
   "cell_type": "markdown",
   "metadata": {},
   "source": [
    "---\n",
    "\n",
    "Import features from `tsv` files to dictionary"
   ]
  },
  {
   "cell_type": "markdown",
   "metadata": {},
   "source": [
    "## Add blastn_rank feature"
   ]
  },
  {
   "cell_type": "code",
   "execution_count": 3,
   "metadata": {},
   "outputs": [],
   "source": [
    "blastn_score = None\n",
    "with open(FEATURES_DIR / 'blastn.tsv') as fp:\n",
    "    blastn_score = pd.read_csv(fp, header=0, index_col=[0, 1], sep='\\t')\n",
    "\n",
    "df_to_concat = []\n",
    "for virus, bacterias in blastn_score.groupby('#virus'):\n",
    "    rank_dict = {value:rank for rank, value in enumerate(bacterias['score'].unique(), 1)}\n",
    "    df_to_concat.append(bacterias['score'].map(rank_dict))\n",
    "\n",
    "blastn_rank = pd.concat(df_to_concat).to_frame()\n",
    "\n",
    "with open(FEATURES_DIR / 'blastn_rank.tsv', 'w') as fp:\n",
    "    blastn_rank.to_csv(fp, sep='\\t')"
   ]
  },
  {
   "cell_type": "markdown",
   "metadata": {},
   "source": [
    "## Add jaccard_index_protein_domains feature"
   ]
  },
  {
   "cell_type": "code",
   "execution_count": 4,
   "metadata": {},
   "outputs": [],
   "source": [
    "virus_json = json.loads(VIRUS_JSON.read_text())\n",
    "host_json = json.loads(HOST_JSON.read_text())\n",
    "data_dict = {'virus':[], 'host':[], 'jaccard_index':[], 'jaccard_index_low_divide':[], 'jaccard_index_no_divide':[]}\n",
    "virus_domains = dict()\n",
    "host_domains = dict()\n",
    "\n",
    "for virus in virus_json:\n",
    "    # Read protein domains of given virus\n",
    "    virus_protein_domains = set()\n",
    "    virus_protein_path = PROJECT_DIR / 'protein_domains' / 'virus' / 'pfam' / f'{virus}.txt'\n",
    "    string = virus_protein_path.read_text()\n",
    "    for line in (line.split() for line in string.split('\\n') if not line.startswith('#')):\n",
    "        if len(line) == 0:\n",
    "            continue\n",
    "        virus_protein_domains.add(line[5])\n",
    "    virus_domains[virus] = virus_protein_domains\n",
    "\n",
    "for host in host_json:\n",
    "    # Read protein domains of given host\n",
    "    host_protein_domains = set()\n",
    "    host_protein_path = PROJECT_DIR / 'protein_domains' / 'host' / 'pfam' / f'{host}.txt'\n",
    "    string = host_protein_path.read_text()\n",
    "    for line in (line.split() for line in string.split('\\n') if not line.startswith('#')):\n",
    "        if len(line) == 0:\n",
    "            continue\n",
    "        host_protein_domains.add(line[5])\n",
    "    host_domains[host] = host_protein_domains\n",
    "\n",
    "for virus in virus_json:    \n",
    "    for host in host_json:\n",
    "        # Assign jaccard index to a pair\n",
    "        jaccard_index = len(virus_domains[virus].intersection(host_domains[host])) / len(virus_domains[virus].union(host_domains[host]))\n",
    "        jaccard_index_low_divide = len(virus_domains[virus].intersection(host_domains[host])) / min(max(len(virus_domains[virus]), 1), len(host_domains[host]))\n",
    "        jaccard_index_no_divide = len(virus_domains[virus].intersection(host_domains[host]))\n",
    "        data_dict['virus'].append(virus) \n",
    "        data_dict['host'].append(host) \n",
    "        data_dict['jaccard_index'].append(jaccard_index)\n",
    "        data_dict['jaccard_index_low_divide'].append(jaccard_index_low_divide)\n",
    "        data_dict['jaccard_index_no_divide'].append(jaccard_index_no_divide)\n",
    "\n",
    "jaccard_df = pd.DataFrame.from_dict(data_dict)\n",
    "jaccard_df.to_csv(FEATURES_DIR / 'jaccard_protein.tsv', sep='\\t', index=False)"
   ]
  },
  {
   "cell_type": "code",
   "execution_count": 5,
   "metadata": {},
   "outputs": [],
   "source": [
    "blastn = defaultdict(lambda: 0)\n",
    "with open(FEATURES_DIR / 'blastn.tsv') as fp:\n",
    "    csv_file = csv.DictReader(fp, delimiter = '\\t')\n",
    "    for line in csv_file:\n",
    "        blastn[(line['#virus'], line['bacteria'])] = line['score']\n",
    "\n",
    "crisprdetect_2mismatch = defaultdict(lambda: 0)\n",
    "with open(FEATURES_DIR / 'crisprdetect-2mismatch.tsv') as fp:\n",
    "    csv_file = csv.DictReader(fp, delimiter = '\\t')\n",
    "    for line in csv_file:\n",
    "        crisprdetect_2mismatch[(line['#virus'], line['bacteria'])] = line['score']\n",
    "\n",
    "gc_content = defaultdict(lambda: 0)\n",
    "with open(FEATURES_DIR / 'gc_content.tsv') as fp:\n",
    "    csv_file = csv.DictReader(fp, delimiter = '\\t')\n",
    "    for line in csv_file:\n",
    "        gc_content[(line['#virus'], line['bacteria'])] = line['score']\n",
    "\n",
    "k6_chebyshev = defaultdict(lambda: 0)\n",
    "with open(FEATURES_DIR / 'k6-chebyshev.tsv') as fp:\n",
    "    csv_file = csv.DictReader(fp, delimiter = '\\t')\n",
    "    for line in csv_file:\n",
    "        k6_chebyshev[(line['#virus'], line['bacteria'])] = line['score']\n",
    "\n",
    "k6_kendalltau = defaultdict(lambda: 0)\n",
    "with open(FEATURES_DIR / 'k6-kendalltau.tsv') as fp:\n",
    "    csv_file = csv.DictReader(fp, delimiter = '\\t')\n",
    "    for line in csv_file:\n",
    "        k6_kendalltau[(line['#virus'], line['bacteria'])] = line['score']\n",
    "\n",
    "k6_manhattan = defaultdict(lambda: 0)\n",
    "with open(FEATURES_DIR / 'k6-manhattan.tsv') as fp:\n",
    "    csv_file = csv.DictReader(fp, delimiter = '\\t')\n",
    "    for line in csv_file:\n",
    "        k6_manhattan[(line['#virus'], line['bacteria'])] = line['score']\n",
    "\n",
    "k25 = defaultdict(lambda: 0)\n",
    "with open(FEATURES_DIR / 'k25.tsv') as fp:\n",
    "    csv_file = csv.DictReader(fp, delimiter = '\\t')\n",
    "    for line in csv_file:\n",
    "        k25[(line['#virus'], line['bacteria'])] = line['score']\n",
    "\n",
    "piler_2mismatch = defaultdict(lambda: 0)\n",
    "with open(FEATURES_DIR / 'piler-2mismatch.tsv') as fp:\n",
    "    csv_file = csv.DictReader(fp, delimiter = '\\t')\n",
    "    for line in csv_file:\n",
    "        piler_2mismatch[(line['#virus'], line['bacteria'])] = line['score']\n",
    "\n",
    "wish = defaultdict(lambda: 0)\n",
    "with open(FEATURES_DIR / 'wish.tsv') as fp:\n",
    "    csv_file = csv.DictReader(fp, delimiter = '\\t')\n",
    "    for line in csv_file:\n",
    "        wish[(line['#virus'], line['bacteria'])] = line['score']\n",
    "\n",
    "blastn_rank = defaultdict(lambda: 0)\n",
    "with open(FEATURES_DIR / 'blastn_rank.tsv') as fp:\n",
    "    csv_file = csv.DictReader(fp, delimiter = '\\t')\n",
    "    for line in csv_file:\n",
    "        blastn_rank[(line['#virus'], line['bacteria'])] = line['score']\n",
    "\n",
    "jaccard_protein = defaultdict(lambda: 0)\n",
    "jaccard_protein_low_divide = defaultdict(lambda: 0)\n",
    "jaccard_protein_no_divide = defaultdict(lambda: 0)\n",
    "with open(FEATURES_DIR / 'jaccard_protein.tsv') as fp:\n",
    "    csv_file = csv.DictReader(fp, delimiter = '\\t')\n",
    "    for line in csv_file:\n",
    "        jaccard_protein[(line['virus'], line['host'])] = line['jaccard_index']\n",
    "        jaccard_protein_low_divide[(line['virus'], line['host'])] = line['jaccard_index_low_divide']\n",
    "        jaccard_protein_no_divide[(line['virus'], line['host'])] = line['jaccard_index_no_divide']\n"
   ]
  },
  {
   "cell_type": "markdown",
   "metadata": {},
   "source": [
    "Open `json` files"
   ]
  },
  {
   "cell_type": "code",
   "execution_count": 6,
   "metadata": {},
   "outputs": [],
   "source": [
    "virus_json = json.loads(VIRUS_JSON.read_text())\n",
    "host_json = json.loads(HOST_JSON.read_text())"
   ]
  },
  {
   "cell_type": "markdown",
   "metadata": {},
   "source": [
    "Create positive and negative pairs and save `csv` file"
   ]
  },
  {
   "cell_type": "code",
   "execution_count": 9,
   "metadata": {},
   "outputs": [],
   "source": [
    "headers = ['virus', 'host', 'blastn_score', 'blastn_rank', 'jaccard_protein', 'jaccard_protein_low_divide', 'jaccard_protein_no_divide',\n",
    "           'crisprdetect_2mismatch_score', 'gc_content_score', 'k6_chebyshev_score', 'k6_kendalltau_score',\n",
    "           'k6_manhattan_score', 'k25_score', 'piler_2mismatch_score', \n",
    "           'wish_score', 'interaction']\n",
    "\n",
    "csv_data = []\n",
    "\n",
    "for virus, virus_data in virus_json.items():\n",
    "    # -1 is for species name\n",
    "    real_host = virus_data['host']['lineage_names'][-1]\n",
    "    for host, host_data in host_json.items():\n",
    "        blastn_score = blastn[(virus, host)]\n",
    "        blastn_rank_score = blastn_rank[(virus, host)]\n",
    "        crisprdetect_2mismatch_score = crisprdetect_2mismatch[(virus, host)]\n",
    "        gc_content_score = gc_content[(virus, host)]\n",
    "        k6_chebyshev_score = k6_chebyshev[(virus, host)]\n",
    "        k6_kendalltau_score = k6_kendalltau[(virus, host)]\n",
    "        k6_manhattan_score = k6_manhattan[(virus, host)]\n",
    "        k25_score = k25[(virus, host)]\n",
    "        piler_2mismatch_score = piler_2mismatch[(virus, host)]\n",
    "        jaccard_protein_index = jaccard_protein[(virus, host)]\n",
    "        jaccard_protein_index_low_divide = jaccard_protein_low_divide[(virus, host)]\n",
    "        jaccard_protein_index_no_divide = jaccard_protein_no_divide[(virus, host)]\n",
    "        wish_score = wish[(virus, host)]\n",
    "        interaction = 1 if real_host == host_data['lineage_names'][-1] else 0\n",
    "        data = {'virus': virus, 'host': host, 'blastn_score': blastn_score,\n",
    "                'blastn_rank': blastn_rank_score, 'jaccard_protein': jaccard_protein_index,\n",
    "                'jaccard_protein_low_divide': jaccard_protein_index_low_divide,\n",
    "                'jaccard_protein_no_divide': jaccard_protein_index_no_divide,\n",
    "                'crisprdetect_2mismatch_score': crisprdetect_2mismatch_score,\n",
    "                'gc_content_score': gc_content_score, 'k6_chebyshev_score': k6_chebyshev_score,\n",
    "                'k6_kendalltau_score': k6_kendalltau_score, 'k6_manhattan_score': k6_manhattan_score,\n",
    "                'k25_score': k25_score, 'piler_2mismatch_score': piler_2mismatch_score,\n",
    "                'wish_score': wish_score, 'interaction': interaction}\n",
    "        csv_data.append(data)\n",
    "\n",
    "with open(PROJECT_DIR / 'dataframe.csv', mode='w') as fp:\n",
    "    writer = csv.DictWriter(fp, fieldnames=headers)\n",
    "    writer.writeheader()\n",
    "    writer.writerows(csv_data)"
   ]
  },
  {
   "cell_type": "markdown",
   "metadata": {},
   "source": [
    "## Leave-One-Out Cross Validation\n",
    "\n",
    "- Take viruses that infect same hosts family\n",
    "- 820 viruses, group by host family\n",
    "  - Train on every other group\n",
    "  - Create positive and negative pairs from every group except the one that I'm testing\n",
    "\n",
    "---\n",
    "\n",
    "Create groups of bacterial host families and put viruses that attack this family"
   ]
  },
  {
   "cell_type": "code",
   "execution_count": null,
   "metadata": {},
   "outputs": [],
   "source": [
    "virus_groups = defaultdict(list)\n",
    "for virus, virus_data in virus_json.items():\n",
    "    # -3 is for family name\n",
    "    virus_groups[virus_data['host']['lineage_names'][-3]].append(virus)\n",
    "\n",
    "with open(PROJECT_DIR / 'virus-groups.json', mode='w') as fp:\n",
    "    json.dump(virus_groups, fp, indent=2)"
   ]
  }
 ],
 "metadata": {
  "kernelspec": {
   "display_name": "Python 3.9.5 64-bit ('virus-df-3.9.5')",
   "language": "python",
   "name": "python3"
  },
  "language_info": {
   "codemirror_mode": {
    "name": "ipython",
    "version": 3
   },
   "file_extension": ".py",
   "mimetype": "text/x-python",
   "name": "python",
   "nbconvert_exporter": "python",
   "pygments_lexer": "ipython3",
   "version": "3.9.5"
  },
  "orig_nbformat": 4,
  "vscode": {
   "interpreter": {
    "hash": "d07505dcd9b474b842f499a38eeb170913afaf5bb8c95598f2be6a43bd70f3b9"
   }
  }
 },
 "nbformat": 4,
 "nbformat_minor": 2
}
